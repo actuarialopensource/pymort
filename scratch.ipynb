{
 "cells": [
  {
   "cell_type": "code",
   "execution_count": 9,
   "metadata": {},
   "outputs": [],
   "source": [
    "import pandas as pd\n",
    "import numpy as np\n",
    "arrays = [\n",
    "    [\"bar\", \"bar\", \"baz\", \"baz\", \"foo\", \"foo\", \"qux\", \"qux\"],\n",
    "    [\"one\", \"two\", \"one\", \"two\", \"one\", \"two\", \"one\", \"two\"],\n",
    "]\n",
    "\n",
    "tuples = list(zip(*arrays))\n",
    "index = pd.MultiIndex.from_tuples(tuples, names=[\"first\", \"second\"])"
   ]
  },
  {
   "cell_type": "code",
   "execution_count": 14,
   "metadata": {},
   "outputs": [
    {
     "data": {
      "text/plain": [
       "bar  one   -0.272638\n",
       "     two    0.547376\n",
       "baz  one   -1.279124\n",
       "     two    0.851636\n",
       "foo  one    0.069399\n",
       "     two   -0.662456\n",
       "qux  one   -0.602856\n",
       "     two    0.123779\n",
       "dtype: float64"
      ]
     },
     "execution_count": 14,
     "metadata": {},
     "output_type": "execute_result"
    }
   ],
   "source": [
    "arrays = [\n",
    "    np.array([\"bar\", \"bar\", \"baz\", \"baz\", \"foo\", \"foo\", \"qux\", \"qux\"]),\n",
    "    np.array([\"one\", \"two\", \"one\", \"two\", \"one\", \"two\", \"one\", \"two\"]),\n",
    "]\n",
    "s = pd.Series(np.random.randn(8), index=arrays)\n",
    "df = pd.DataFrame(np.random.randn(3, 8), index=[\"A\", \"B\", \"C\"], columns=index)\n",
    "df['bar']\n",
    "s"
   ]
  },
  {
   "cell_type": "code",
   "execution_count": 21,
   "metadata": {},
   "outputs": [
    {
     "name": "stdout",
     "output_type": "stream",
     "text": [
      "bar  one   -0.272638\n",
      "     two    0.547376\n",
      "baz  one   -1.279124\n",
      "     two    0.851636\n",
      "foo  one    0.069399\n",
      "     two   -0.662456\n",
      "qux  one   -0.602856\n",
      "     two    0.123779\n",
      "dtype: float64\n",
      "bar  one   -0.545276\n",
      "     two    1.094752\n",
      "baz  one   -2.558249\n",
      "     two    1.703272\n",
      "foo  one    0.138797\n",
      "     two   -1.324912\n",
      "qux  one   -1.205713\n",
      "     two    0.247559\n",
      "dtype: float64\n"
     ]
    }
   ],
   "source": [
    "print(s)\n",
    "print(s + s)"
   ]
  }
 ],
 "metadata": {
  "interpreter": {
   "hash": "970554f70a613cc02430fc77825a2db1b51fd0171ef5deaae847e3426f06bd4d"
  },
  "kernelspec": {
   "display_name": "Python 3.9.7 64-bit ('pymort-r50VwxHF-py3.9': poetry)",
   "name": "python3"
  },
  "language_info": {
   "codemirror_mode": {
    "name": "ipython",
    "version": 3
   },
   "file_extension": ".py",
   "mimetype": "text/x-python",
   "name": "python",
   "nbconvert_exporter": "python",
   "pygments_lexer": "ipython3",
   "version": "3.9.7"
  },
  "orig_nbformat": 4
 },
 "nbformat": 4,
 "nbformat_minor": 2
}
