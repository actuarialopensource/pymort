{
 "cells": [
  {
   "cell_type": "code",
   "execution_count": 3,
   "metadata": {},
   "outputs": [],
   "source": [
    "import pymort\n",
    "\n",
    "lol = pymort.Table(tableName=\"2017 Loaded CSO Composite Gender-Blended 20% Male ALB - t3282\")"
   ]
  },
  {
   "cell_type": "code",
   "execution_count": 5,
   "metadata": {},
   "outputs": [
    {
     "data": {
      "text/plain": [
       "XTbML(ContentClassification=ContentClassification(TableIdentity='3282', ProviderDomain='soa.org', ProviderName='American Academy of Actuaries along with the Society of Actuaries', TableReference='Joint American Academy of Actuaries\\' Life Experience Committee and Society of Actuaries Preferred Mortality Oversight Group CSO Development Subgroup, \"Report on the 2017 CSO  and on the 2017 CSO Preferred Structure Table Development\", American Academy of Actuaries, (2015). Appendix K. Accessed: February, 2016 from https://www.soa.org/resources/experience-studies/2015/2017-cso-tables/', ContentType='CSO / CET', TableName='2017 Loaded CSO Composite Gender-Blended 20% Male ALB', TableDescription='2017 Loaded CSO Composite Gender-Blended, Male, 20%, Age Last Birthday. Minimum Age: 0. Maximum Age: 95.', Comments='The 2017 Commissioners Standard Ordinary Tables (CSO) are a series of mortality tables developed for regulatory uses including CRVM, net premium reserves and non-forfeiture determination. The tables were based on life insurance mortality experience from 2002 to 2009, projected with improvement to 2017.  The tables include a margin to cover the variation of individual company’s mortality around the industry mean. Table uploaded: 02/2016. Select rates at ages 0-17 for certain durations and ultimate rates at ages 18-27, 29, 30, 32 and 37 were modified 09/2016. Data verified: 07/2018.', KeyWords=[]), Tables=[Table(MetaData=MetaData(ScalingFactor=0.0, DataType='Floating Point', Nation='United States of America', TableDescription='2017 Loaded CSO Composite Gender-Blended, Male, 20%, Select and Ultimate Table. Basis: Age Last Birthday. Minimum Select Age: 0. Maximum Select Age: 95.', AxisDefs=[AxisDef(ScaleType='Age', AxisName='Age', MinScaleValue=0, MaxScaleValue=95, Increment=1), AxisDef(ScaleType='Ordinal Date', AxisName='Duration', MinScaleValue=1, MaxScaleValue=25, Increment=1)]), Values=                 vals\n",
       "Age Duration         \n",
       "0   1         0.00026\n",
       "    2         0.00014\n",
       "    3         0.00010\n",
       "    4         0.00009\n",
       "    5         0.00009\n",
       "...               ...\n",
       "95  21        0.77346\n",
       "    22        0.81466\n",
       "    23        0.85788\n",
       "    24        0.90315\n",
       "    25        0.95053\n",
       "\n",
       "[2400 rows x 1 columns]), Table(MetaData=MetaData(ScalingFactor=0.0, DataType='Floating Point', Nation='United States of America', TableDescription='2017 Loaded CSO Composite Gender-Blended, Male, 20%, Select and Ultimate Table. Basis: Age Last Birthday. Minimum Ultimate Age: 0. Maximum Ultimate Age: 120', AxisDefs=[AxisDef(ScaleType='Age', AxisName='Age', MinScaleValue=0, MaxScaleValue=120, Increment=1)]), Values=        vals\n",
       "Age         \n",
       "0    0.00026\n",
       "1    0.00014\n",
       "2    0.00010\n",
       "3    0.00009\n",
       "4    0.00009\n",
       "..       ...\n",
       "116  0.81466\n",
       "117  0.85788\n",
       "118  0.90315\n",
       "119  0.95053\n",
       "120  1.00000\n",
       "\n",
       "[121 rows x 1 columns])])"
      ]
     },
     "execution_count": 5,
     "metadata": {},
     "output_type": "execute_result"
    }
   ],
   "source": [
    "lol.xtbml"
   ]
  }
 ],
 "metadata": {
  "interpreter": {
   "hash": "970554f70a613cc02430fc77825a2db1b51fd0171ef5deaae847e3426f06bd4d"
  },
  "kernelspec": {
   "display_name": "Python 3.9.7 64-bit ('pymort-r50VwxHF-py3.9': poetry)",
   "name": "python3"
  },
  "language_info": {
   "codemirror_mode": {
    "name": "ipython",
    "version": 3
   },
   "file_extension": ".py",
   "mimetype": "text/x-python",
   "name": "python",
   "nbconvert_exporter": "python",
   "pygments_lexer": "ipython3",
   "version": "3.9.7"
  },
  "orig_nbformat": 4
 },
 "nbformat": 4,
 "nbformat_minor": 2
}
