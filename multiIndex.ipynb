{
 "cells": [
  {
   "cell_type": "code",
   "execution_count": 10,
   "metadata": {},
   "outputs": [],
   "source": [
    "from dataclasses import dataclass\n",
    "from pandas import DataFrame\n",
    "from collections import Counter\n",
    "from glob import glob\n",
    "import xml.etree.ElementTree as ET\n",
    "from pprint import pprint\n",
    "import pandas as pd"
   ]
  },
  {
   "cell_type": "code",
   "execution_count": 3,
   "metadata": {},
   "outputs": [],
   "source": [
    "@dataclass\n",
    "class AxisDef:\n",
    "    ScaleType: str\n",
    "    AxisName: str\n",
    "    MinScaleValue: int\n",
    "    MaxScaleValue: int\n",
    "    Increment: int\n",
    "\n",
    "@dataclass\n",
    "class MetaData:\n",
    "    ScalingFactor: float\n",
    "    DataType: str\n",
    "    Nation: str\n",
    "    TableDescription: str\n",
    "    AxisDefs: list[AxisDef]\n",
    "\n",
    "@dataclass\n",
    "class Table:\n",
    "    MetaData: MetaData\n",
    "    Values: DataFrame\n",
    "\n",
    "@dataclass\n",
    "class ContentClassification:\n",
    "    TableIdentity: str\n",
    "    ProviderDomain: str\n",
    "    ProviderName: str\n",
    "    TableReference: str\n",
    "    ContentType: str\n",
    "    TableName: str\n",
    "    TableDescription: str\n",
    "    Comments: str\n",
    "    KeyWords: list[str]\n",
    "\n",
    "@dataclass\n",
    "class XTbML:\n",
    "    ContentClassification: ContentClassification\n",
    "    Tables: list[Table]"
   ]
  },
  {
   "cell_type": "code",
   "execution_count": 35,
   "metadata": {},
   "outputs": [],
   "source": [
    "glob('archive-2021-Oct-17-051924/*')\n",
    "\n",
    "r1 = ET.parse('archive-2021-Oct-17-051924/t2696.xml').getroot()\n",
    "r2 = ET.parse('archive-2021-Oct-17-051924/t2682.xml').getroot()\n",
    "r3 = ET.parse('archive-2021-Oct-17-051924/t3278.xml').getroot()\n",
    "tables1 = r1.findall(\"./Table\")\n",
    "tables2 = r2.findall(\"./Table\")\n",
    "tables3 = r3.findall(\"./Table\")"
   ]
  },
  {
   "cell_type": "code",
   "execution_count": 46,
   "metadata": {},
   "outputs": [
    {
     "data": {
      "text/plain": [
       "Duration\n",
       "1     0.00029\n",
       "2     0.00017\n",
       "3     0.00012\n",
       "4     0.00010\n",
       "5     0.00009\n",
       "6     0.00009\n",
       "7     0.00009\n",
       "8     0.00009\n",
       "9     0.00008\n",
       "10    0.00008\n",
       "11    0.00009\n",
       "12    0.00009\n",
       "13    0.00010\n",
       "14    0.00011\n",
       "15    0.00016\n",
       "16    0.00025\n",
       "17    0.00036\n",
       "18    0.00047\n",
       "19    0.00053\n",
       "20    0.00054\n",
       "21    0.00056\n",
       "22    0.00057\n",
       "23    0.00058\n",
       "24    0.00061\n",
       "25    0.00064\n",
       "Name: vals, dtype: float64"
      ]
     },
     "execution_count": 46,
     "metadata": {},
     "output_type": "execute_result"
    }
   ],
   "source": [
    "@dataclass \n",
    "class IndexParams:\n",
    "    AxisName: str\n",
    "    MinScaleValue: int\n",
    "    MaxScaleValue: int\n",
    "    Increment: int\n",
    "\n",
    "def getParamsFromAxisDef(axisDef: ET.Element) -> IndexParams:\n",
    "    return IndexParams(\n",
    "        axisDef.find('./AxisName').text,\n",
    "        int(axisDef.find('./MinScaleValue').text),\n",
    "        int(axisDef.find('./MaxScaleValue').text),\n",
    "        int(axisDef.find('./Increment').text)\n",
    "    )\n",
    "\n",
    "def getIndexInfo(table: ET.Element) -> list[IndexParams]:\n",
    "    axisDefs = table.findall(\"./MetaData/AxisDef\")\n",
    "    return [getParamsFromAxisDef(axisDef) for axisDef in axisDefs]\n",
    "\n",
    "def constructMultiIndex(indices: list[IndexParams]) -> pd.MultiIndex:\n",
    "    return pd.MultiIndex.from_product(\n",
    "        [range(index.MinScaleValue, index.MaxScaleValue+1, index.Increment) for index in indices],\n",
    "        names=[index.AxisName for index in indices])\n",
    "\n",
    "constructMultiIndex(getIndexInfo(tables1[0]))\n",
    "\n",
    "def getVals(table: ET.Element) -> list[float]:\n",
    "    vals = []\n",
    "    for val in table.iter('Y'):\n",
    "        vals.append(float(val.text))\n",
    "    return vals\n",
    "\n",
    "# Get a dataframe of the values with the multiindex\n",
    "def getDataFrame(table: ET.Element) -> DataFrame:\n",
    "    vals = getVals(table)\n",
    "    index = constructMultiIndex(getIndexInfo(table))\n",
    "    return DataFrame(vals, index=index, columns=['vals'])\n",
    "\n",
    "l = getDataFrame(tables3[0])\n",
    "l.loc[0, 'vals']\n"
   ]
  }
 ],
 "metadata": {
  "interpreter": {
   "hash": "970554f70a613cc02430fc77825a2db1b51fd0171ef5deaae847e3426f06bd4d"
  },
  "kernelspec": {
   "display_name": "Python 3.9.7 64-bit ('pymort-r50VwxHF-py3.9': poetry)",
   "name": "python3"
  },
  "language_info": {
   "codemirror_mode": {
    "name": "ipython",
    "version": 3
   },
   "file_extension": ".py",
   "mimetype": "text/x-python",
   "name": "python",
   "nbconvert_exporter": "python",
   "pygments_lexer": "ipython3",
   "version": "3.9.7"
  },
  "orig_nbformat": 4
 },
 "nbformat": 4,
 "nbformat_minor": 2
}
