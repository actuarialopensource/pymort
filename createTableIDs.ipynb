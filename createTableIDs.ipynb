{
 "cells": [
  {
   "cell_type": "code",
   "execution_count": 1,
   "metadata": {},
   "outputs": [],
   "source": [
    "import xml.etree.ElementTree as ET\n",
    "import os\n",
    "import glob\n",
    "import re\n",
    "import pprint\n",
    "\n",
    "# Read an xml file to get table name and id\n",
    "def getTableNameID(filePath: str) -> str:\n",
    "    tree = ET.parse(filePath)\n",
    "    root = tree.getroot()\n",
    "    tableName = root.find(\"./ContentClassification/TableName\").text\n",
    "    tableId = root.find(\"./ContentClassification/TableIdentity\").text\n",
    "    return tableName + \" - t\" + tableId\n",
    "\n",
    "files = [file for file in glob.glob('./pymort/archive_2021_Oct_17_051924/*') if file.endswith('.xml')]\n",
    "# I just use this for debugging, make a smaller slice to reduce time\n",
    "shortenedList = files[:]\n",
    "\n",
    "tableIDs = [int(x) for x in [l.split('/')[-1][1:-4] for l in shortenedList]]\n",
    "tablesNamesIDs = [getTableNameID(filePath) for filePath in shortenedList]\n",
    "d = dict(sorted(zip(tableIDs, tablesNamesIDs)))\n",
    "\n",
    "with open('map.py', 'w') as f:\n",
    "    f.write('tableIDs = ')\n",
    "    print(d, file=f)\n"
   ]
  }
 ],
 "metadata": {
  "interpreter": {
   "hash": "ca30357621e784c1753d2fc18f21cac83bb234d084e93385854d0a3052d917e8"
  },
  "kernelspec": {
   "display_name": "Python 3.8.6 64-bit ('pymort-r50VwxHF-py3.8': poetry)",
   "name": "python3"
  },
  "language_info": {
   "codemirror_mode": {
    "name": "ipython",
    "version": 3
   },
   "file_extension": ".py",
   "mimetype": "text/x-python",
   "name": "python",
   "nbconvert_exporter": "python",
   "pygments_lexer": "ipython3",
   "version": "3.8.6"
  },
  "orig_nbformat": 4
 },
 "nbformat": 4,
 "nbformat_minor": 2
}
